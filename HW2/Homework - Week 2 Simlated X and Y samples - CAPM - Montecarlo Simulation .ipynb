{
 "cells": [
  {
   "cell_type": "code",
   "execution_count": 1,
   "metadata": {
    "collapsed": false
   },
   "outputs": [],
   "source": [
    "import matplotlib.pyplot as plt\n",
    "import numpy as np\n",
    "import pandas as pd\n",
    "import pandas.io.data as web\n",
    "import Quandl\n",
    "import statsmodels.api as sm\n",
    "import statsmodels.formula.api as smf\n",
    "from statsmodels.graphics.api import abline_plot\n",
    "import patsy\n",
    "import seaborn as sns\n",
    "sns.set(context='notebook', style='whitegrid', palette='deep', font='sans-serif', font_scale=1, rc=None)\n",
    "from scipy import stats"
   ]
  },
  {
   "cell_type": "code",
   "execution_count": 2,
   "metadata": {
    "collapsed": false
   },
   "outputs": [
    {
     "name": "stdout",
     "output_type": "stream",
     "text": [
      "                            OLS Regression Results                            \n",
      "==============================================================================\n",
      "Dep. Variable:                      y   R-squared:                       0.000\n",
      "Model:                            OLS   Adj. R-squared:                 -0.001\n",
      "Method:                 Least Squares   F-statistic:                    0.1263\n",
      "Date:                Fri, 25 Sep 2015   Prob (F-statistic):              0.722\n",
      "Time:                        08:34:10   Log-Likelihood:                -2360.4\n",
      "No. Observations:                1000   AIC:                             4725.\n",
      "Df Residuals:                     998   BIC:                             4735.\n",
      "Df Model:                           1                                         \n",
      "Covariance Type:            nonrobust                                         \n",
      "==============================================================================\n",
      "                 coef    std err          t      P>|t|      [95.0% Conf. Int.]\n",
      "------------------------------------------------------------------------------\n",
      "Intercept      3.9370      0.153     25.756      0.000         3.637     4.237\n",
      "x             -0.0115      0.032     -0.355      0.722        -0.075     0.052\n",
      "==============================================================================\n",
      "Omnibus:                      759.483   Durbin-Watson:                   2.026\n",
      "Prob(Omnibus):                  0.000   Jarque-Bera (JB):               60.604\n",
      "Skew:                           0.035   Prob(JB):                     6.92e-14\n",
      "Kurtosis:                       1.796   Cond. No.                         9.16\n",
      "==============================================================================\n",
      "\n",
      "Warnings:\n",
      "[1] Standard Errors assume that the covariance matrix of the errors is correctly specified.\n"
     ]
    }
   ],
   "source": [
    "# Exercise # 1 - Generating two series of 1000 numbers to fit as a Bivariate Function\n",
    "x = pd.DataFrame(np.random.randint(0,9,1000))\n",
    "y = pd.DataFrame(np.random.randint(0,9,1000))\n",
    "data = pd.merge(y, x, left_index=True, right_index=True)\n",
    "mod = smf.ols(formula='y ~ x', data=data).fit()\n",
    "print(mod.summary())"
   ]
  },
  {
   "cell_type": "markdown",
   "metadata": {},
   "source": [
    "For this two randomly generated series (x and y with 1.000 observations each), the T-statistic value is less in absolut value than absolute 2; in that case for a level of confidence of 95% we would accept the null hypothesis (H0: B1 = 0) and declare that the two variables are non-related to each other (given the proximity of the slope of the regression line of the x constant to 0), given the fact that the high probability of the T-statistic of x given y (54.9%). "
   ]
  },
  {
   "cell_type": "code",
   "execution_count": 3,
   "metadata": {
    "collapsed": true
   },
   "outputs": [],
   "source": [
    "# Exercise # 2 - CAPM with changed stock\n",
    "# Grab 5 years of IBM and NASDAQ data using Quandl.   \n",
    "\n",
    "IBM_all = Quandl.get(\"YAHOO/IBM\", trim_start=\"2010-9-1\")\n",
    "nasdaq_all = Quandl.get(\"NASDAQOMX/COMP\", trim_start=\"2010-9-1\")\n",
    "IBM = IBM_all['Adjusted Close']\n",
    "nasdaq = nasdaq_all['Index Value']"
   ]
  },
  {
   "cell_type": "code",
   "execution_count": 4,
   "metadata": {
    "collapsed": false
   },
   "outputs": [
    {
     "data": {
      "text/plain": [
       "<matplotlib.text.Text at 0x18a99a58>"
      ]
     },
     "execution_count": 4,
     "metadata": {},
     "output_type": "execute_result"
    }
   ],
   "source": [
    "plt.figure(figsize = (12,10))\n",
    "#plt.plot(IBM)\n",
    "IBM.plot(color='blue')\n",
    "plt.title('IBM ($/Share)', fontsize=20)"
   ]
  },
  {
   "cell_type": "markdown",
   "metadata": {},
   "source": [
    "<img src = \"Figure_1.png\">"
   ]
  },
  {
   "cell_type": "code",
   "execution_count": 5,
   "metadata": {
    "collapsed": false
   },
   "outputs": [
    {
     "data": {
      "text/plain": [
       "<matplotlib.text.Text at 0x189bb710>"
      ]
     },
     "execution_count": 5,
     "metadata": {},
     "output_type": "execute_result"
    }
   ],
   "source": [
    "plt.figure(figsize = (12,10))\n",
    "#plt.plot(nasdaq)\n",
    "nasdaq.plot(color='blue')\n",
    "plt.title('NASDAQ', fontsize=20)"
   ]
  },
  {
   "cell_type": "markdown",
   "metadata": {},
   "source": [
    "<img src=\"Figure_2.png\"> "
   ]
  },
  {
   "cell_type": "code",
   "execution_count": 6,
   "metadata": {
    "collapsed": false
   },
   "outputs": [],
   "source": [
    "IBM_returns = np.log(IBM / IBM.shift(1))\n",
    "nasdaq_returns = np.log(nasdaq / nasdaq.shift(1))\n",
    "IBM_returns = IBM_returns.dropna()\n",
    "nasdaq_returns = nasdaq_returns.dropna()"
   ]
  },
  {
   "cell_type": "code",
   "execution_count": 7,
   "metadata": {
    "collapsed": false
   },
   "outputs": [
    {
     "name": "stdout",
     "output_type": "stream",
     "text": [
      "0.000190036544099 0.0119003809381\n"
     ]
    }
   ],
   "source": [
    "print IBM_returns.mean(), IBM_returns.std()"
   ]
  },
  {
   "cell_type": "code",
   "execution_count": 8,
   "metadata": {
    "collapsed": false
   },
   "outputs": [
    {
     "data": {
      "text/plain": [
       "<matplotlib.text.Text at 0x18cd8358>"
      ]
     },
     "execution_count": 8,
     "metadata": {},
     "output_type": "execute_result"
    }
   ],
   "source": [
    "plt.figure(figsize= (12,10))\n",
    "plt.hist(IBM_returns, bins=50, normed=True, color='blue')\n",
    "plt.title('Histogram of IBM Daily Returns Since 2010', fontsize=20)\n",
    "plt.ylabel('%', fontsize=18)"
   ]
  },
  {
   "cell_type": "markdown",
   "metadata": {},
   "source": [
    "<img src = \"Figure_3.png\">"
   ]
  },
  {
   "cell_type": "code",
   "execution_count": 9,
   "metadata": {
    "collapsed": false
   },
   "outputs": [
    {
     "name": "stdout",
     "output_type": "stream",
     "text": [
      "0.00060988823878 0.0107742281971\n"
     ]
    }
   ],
   "source": [
    "print nasdaq_returns.mean(), nasdaq_returns.std()"
   ]
  },
  {
   "cell_type": "code",
   "execution_count": 10,
   "metadata": {
    "collapsed": false
   },
   "outputs": [
    {
     "data": {
      "text/plain": [
       "<matplotlib.text.Text at 0x1b027518>"
      ]
     },
     "execution_count": 10,
     "metadata": {},
     "output_type": "execute_result"
    }
   ],
   "source": [
    "plt.figure(figsize= (12,10))\n",
    "plt.hist(nasdaq_returns, bins=50, normed=True, color='blue')\n",
    "plt.title('Histogram of NASDAQ Daily Returns Since 2010', fontsize=20)\n",
    "plt.ylabel('%', fontsize=18)"
   ]
  },
  {
   "cell_type": "markdown",
   "metadata": {},
   "source": [
    "<img src = \"Figure_4.png\">"
   ]
  },
  {
   "cell_type": "code",
   "execution_count": 11,
   "metadata": {
    "collapsed": false
   },
   "outputs": [],
   "source": [
    "# Create dataframes for merge and regression.\n",
    "\n",
    "IBM_returns = pd.DataFrame(IBM_returns)\n",
    "nasdaq_returns = pd.DataFrame(nasdaq_returns)"
   ]
  },
  {
   "cell_type": "code",
   "execution_count": 12,
   "metadata": {
    "collapsed": false
   },
   "outputs": [
    {
     "name": "stdout",
     "output_type": "stream",
     "text": [
      "<class 'pandas.core.frame.DataFrame'>\n",
      "DatetimeIndex: 1274 entries, 2010-09-02 to 2015-09-24\n",
      "Data columns (total 1 columns):\n",
      "Adjusted Close    1274 non-null float64\n",
      "dtypes: float64(1)\n",
      "memory usage: 19.9 KB\n",
      "<class 'pandas.core.frame.DataFrame'>\n",
      "DatetimeIndex: 1274 entries, 2010-09-02 to 2015-09-24\n",
      "Data columns (total 1 columns):\n",
      "Index Value    1274 non-null float64\n",
      "dtypes: float64(1)\n",
      "memory usage: 19.9 KB\n"
     ]
    }
   ],
   "source": [
    "# Confirm dataframes\n",
    "\n",
    "IBM_returns.info()\n",
    "nasdaq_returns.info()"
   ]
  },
  {
   "cell_type": "code",
   "execution_count": 13,
   "metadata": {
    "collapsed": false
   },
   "outputs": [
    {
     "data": {
      "text/plain": [
       "(-0.1, 0.1)"
      ]
     },
     "execution_count": 13,
     "metadata": {},
     "output_type": "execute_result"
    }
   ],
   "source": [
    "plt.figure(figsize = (12,10))\n",
    "plt.scatter(IBM_returns, nasdaq_returns)\n",
    "plt.title('CAPM Data', fontsize = 20)\n",
    "plt.xlabel('Log Returns of NASDAQ', fontsize = 18)\n",
    "plt.ylabel('Log Returns of IBM', fontsize = 18)\n",
    "plt.xlim([-0.1, 0.1])\n",
    "plt.ylim([-0.1, 0.1])"
   ]
  },
  {
   "cell_type": "markdown",
   "metadata": {},
   "source": [
    "<img src = \"Figure_5.png\">"
   ]
  },
  {
   "cell_type": "code",
   "execution_count": 14,
   "metadata": {
    "collapsed": true
   },
   "outputs": [],
   "source": [
    "data = pd.merge(nasdaq_returns, IBM_returns, left_index=True, right_index=True)\n",
    "data.rename(columns={'Index Value':'nasdaq', 'Adjusted Close':'IBM'}, inplace=True)"
   ]
  },
  {
   "cell_type": "code",
   "execution_count": 15,
   "metadata": {
    "collapsed": false
   },
   "outputs": [
    {
     "name": "stdout",
     "output_type": "stream",
     "text": [
      "nasdaq    0.00061\n",
      "IBM       0.00019\n",
      "dtype: float64\n",
      "nasdaq    0.010774\n",
      "IBM       0.011900\n",
      "dtype: float64\n"
     ]
    }
   ],
   "source": [
    "print data.mean()\n",
    "print data.std()"
   ]
  },
  {
   "cell_type": "code",
   "execution_count": 16,
   "metadata": {
    "collapsed": false
   },
   "outputs": [
    {
     "name": "stdout",
     "output_type": "stream",
     "text": [
      "                            OLS Regression Results                            \n",
      "==============================================================================\n",
      "Dep. Variable:                    IBM   R-squared:                       0.384\n",
      "Model:                            OLS   Adj. R-squared:                  0.383\n",
      "Method:                 Least Squares   F-statistic:                     792.2\n",
      "Date:                Fri, 25 Sep 2015   Prob (F-statistic):          6.80e-136\n",
      "Time:                        08:34:48   Log-Likelihood:                 4146.5\n",
      "No. Observations:                1274   AIC:                            -8289.\n",
      "Df Residuals:                    1272   BIC:                            -8279.\n",
      "Df Model:                           1                                         \n",
      "Covariance Type:            nonrobust                                         \n",
      "==============================================================================\n",
      "                 coef    std err          t      P>|t|      [95.0% Conf. Int.]\n",
      "------------------------------------------------------------------------------\n",
      "Intercept     -0.0002      0.000     -0.867      0.386        -0.001     0.000\n",
      "nasdaq         0.6842      0.024     28.146      0.000         0.637     0.732\n",
      "==============================================================================\n",
      "Omnibus:                      709.243   Durbin-Watson:                   1.858\n",
      "Prob(Omnibus):                  0.000   Jarque-Bera (JB):            21309.841\n",
      "Skew:                          -2.009   Prob(JB):                         0.00\n",
      "Kurtosis:                      22.629   Cond. No.                         92.9\n",
      "==============================================================================\n",
      "\n",
      "Warnings:\n",
      "[1] Standard Errors assume that the covariance matrix of the errors is correctly specified.\n"
     ]
    }
   ],
   "source": [
    "mod = smf.ols(formula='IBM ~ nasdaq', data = data).fit()\n",
    "print(mod.summary())"
   ]
  },
  {
   "cell_type": "code",
   "execution_count": 17,
   "metadata": {
    "collapsed": false
   },
   "outputs": [
    {
     "data": {
      "text/plain": [
       "(-0.1, 0.1)"
      ]
     },
     "execution_count": 17,
     "metadata": {},
     "output_type": "execute_result"
    }
   ],
   "source": [
    "# This a convoluted\n",
    "\n",
    "figure, ax = plt.subplots(figsize=(12,10))\n",
    "ax.scatter(IBM_returns, nasdaq_returns)\n",
    "mod = smf.ols(formula='IBM ~ nasdaq', data = data).fit()\n",
    "abline_plot(model_results=mod, ax=ax, color='red')\n",
    "\n",
    "ax.set_title('CAPM Data', fontsize = 20)\n",
    "ax.set_ylabel('Log Returns of IBM', fontsize = 18)\n",
    "ax.set_xlabel('Log Returns of NASDAQ', fontsize = 18)\n",
    "ax.set_xlim([-0.1, 0.1])\n",
    "ax.set_ylim([-0.1, 0.1])"
   ]
  },
  {
   "cell_type": "markdown",
   "metadata": {},
   "source": [
    "<img src = \"Figure_6.png\">"
   ]
  },
  {
   "cell_type": "code",
   "execution_count": 18,
   "metadata": {
    "collapsed": false
   },
   "outputs": [
    {
     "name": "stdout",
     "output_type": "stream",
     "text": [
      "<F test: F=array([[ 168.69341925]]), p=2.60074086591e-36, df_denom=1272, df_num=1>\n"
     ]
    }
   ],
   "source": [
    "# print the Ftest, Farray, P(t) when beta = 1\n",
    "print mod.f_test(\"nasdaq = 1\")"
   ]
  },
  {
   "cell_type": "code",
   "execution_count": 19,
   "metadata": {
    "collapsed": false
   },
   "outputs": [
    {
     "name": "stdout",
     "output_type": "stream",
     "text": [
      "<F test: F=array([[ 0.75107292]]), p=0.386300194091, df_denom=1272, df_num=1>\n"
     ]
    }
   ],
   "source": [
    "# print the Ftest, Farray, P(t) when alpha = 0\n",
    "print mod.f_test(\"Intercept = 0\")"
   ]
  },
  {
   "cell_type": "code",
   "execution_count": 20,
   "metadata": {
    "collapsed": false,
    "scrolled": true
   },
   "outputs": [
    {
     "name": "stdout",
     "output_type": "stream",
     "text": [
      "<F test: F=array([[ 85.63237151]]), p=1.28749390836e-35, df_denom=1272, df_num=2>\n"
     ]
    }
   ],
   "source": [
    "# print the Ftest, Farray, P(t) when beta = 1 and alpha = 1\n",
    "print mod.f_test(\"nasdaq = 1, Intercept = 0\")"
   ]
  },
  {
   "cell_type": "markdown",
   "metadata": {},
   "source": [
    "For the results we can infere that:\n",
    "    \n",
    "1. We cannot reject the null hipotesis that B0 (alpha-intercept) is equal that 0 due to the high value of the p-statistic, therefore confirming that the IBM stock analized almost performed equaly to the Nasdaq market since 2010 in general terms.  \n",
    "2. We reject the null hypotesis that B1 (Beta-Slope) = 1 with a 95% of confidence given the low value of the P(t) statistic (0.00%), therefore confirming that IBM stock has less volatility thatn the market in terms of daily returns, making it less risky for investors.\n",
    "3.For the combined test, we can reject the null hypotesis of both B0 = 0 (Alpha intercept) and B1 = 1 (Beta-Slope) due to the loew value of the p-statistic with a 95% confidence interval. \n"
   ]
  },
  {
   "cell_type": "code",
   "execution_count": 50,
   "metadata": {
    "collapsed": false
   },
   "outputs": [
    {
     "name": "stdout",
     "output_type": "stream",
     "text": [
      "Summary Statistics\n",
      "x1 mean: 0.487375587225\n",
      "d mean: 0.476999998093\n",
      "x1 Variance: 0.0802043154836\n",
      "d Variance: 0.249469965696\n",
      "x1 Std: 0.283203664319\n",
      "d Std: 0.499469684462\n",
      "                            OLS Regression Results                            \n",
      "==============================================================================\n",
      "Dep. Variable:                      d   R-squared:                       0.332\n",
      "Model:                            OLS   Adj. R-squared:                  0.331\n",
      "Method:                 Least Squares   F-statistic:                     495.0\n",
      "Date:                Fri, 25 Sep 2015   Prob (F-statistic):           2.21e-89\n",
      "Time:                        09:07:10   Log-Likelihood:                -523.32\n",
      "No. Observations:                1000   AIC:                             1051.\n",
      "Df Residuals:                     998   BIC:                             1060.\n",
      "Df Model:                           1                                         \n",
      "Covariance Type:            nonrobust                                         \n",
      "==============================================================================\n",
      "                 coef    std err          t      P>|t|      [95.0% Conf. Int.]\n",
      "------------------------------------------------------------------------------\n",
      "Intercept     -0.0180      0.026     -0.698      0.486        -0.068     0.033\n",
      "x1             1.0155      0.046     22.250      0.000         0.926     1.105\n",
      "==============================================================================\n",
      "Omnibus:                       28.836   Durbin-Watson:                   2.011\n",
      "Prob(Omnibus):                  0.000   Jarque-Bera (JB):               14.710\n",
      "Skew:                           0.061   Prob(JB):                     0.000639\n",
      "Kurtosis:                       2.419   Cond. No.                         4.43\n",
      "==============================================================================\n",
      "\n",
      "Warnings:\n",
      "[1] Standard Errors assume that the covariance matrix of the errors is correctly specified.\n"
     ]
    }
   ],
   "source": [
    "# Excersie 3 - Import train.dta and perform a linnear regression\n",
    "\n",
    "# Import data from train.dta file as a panda dataframe\n",
    "traindata = pd.read_stata('train.dta')\n",
    "\n",
    "#Calculating and printing statistics from dataframe variables\n",
    "print('Summary Statistics')\n",
    "print('x1 mean: ') + str(np.mean(traindata['x1']))\n",
    "print('d mean: ') + str(np.mean(traindata['d']))\n",
    "print('x1 Variance: ') + str(np.var(traindata['x1']))\n",
    "print('d Variance: ') + str(np.var(traindata['d']))\n",
    "print('x1 Std: ') + str(np.std(traindata['x1']))\n",
    "print('d Std: ') + str(np.std(traindata['d']))\n",
    "\n",
    "# Running a OLS regression\n",
    "mod = smf.ols(formula='d ~ x1', data=traindata).fit()\n",
    "print(mod.summary())"
   ]
  },
  {
   "cell_type": "markdown",
   "metadata": {},
   "source": [
    "- Given the results of the OLS regression of D given X1, and the p-value of this regression (0%), we can reject the null hypotesis that the coeficient of X1 = 0 with a 95% degree of confidence, thus confirming that changes in the predictor's value (x1) are related to changes in the response variable (D).  \n",
    "- Given the results of the OLS regression for the intercept we accept the null hypotesis that it is equal to 0 with a 95% degree of confidence, due to the high value of it's p-statistic (0.486)."
   ]
  },
  {
   "cell_type": "code",
   "execution_count": 58,
   "metadata": {
    "collapsed": false
   },
   "outputs": [
    {
     "name": "stdout",
     "output_type": "stream",
     "text": [
      "DE1 =0.642075\n",
      "DE2 =1.007655\n"
     ]
    }
   ],
   "source": [
    "# Calculating D estimated value from estimated B0 and B1 Constants\n",
    "\n",
    "B0 = -0.0180\n",
    "B1 = 1.0155\n",
    "X1 = 0.65\n",
    "\n",
    "DE1 = B0 + X1* B1\n",
    "\n",
    "print('DE1 =') + str(DE1)\n",
    "\n",
    "X2 = 1.01\n",
    "\n",
    "DE2 = B0 + X2* B1\n",
    "\n",
    "print('DE2 =') + str(DE2)"
   ]
  },
  {
   "cell_type": "markdown",
   "metadata": {},
   "source": [
    "For the first estimation (with a value of X1 = 0.65) we would not classify the email as spam; For the second estimation (with a value of X1 = 1.01) we would classify the email as spam."
   ]
  },
  {
   "cell_type": "code",
   "execution_count": 24,
   "metadata": {
    "collapsed": false
   },
   "outputs": [],
   "source": [
    "# Excersice 4 - DGP Montecarlo simulation\n",
    "# Question 1\n",
    "\n",
    "# Generator normal error and feature\n",
    "e1 = np.random.normal(0, 1, 1000)  \n",
    "x = np.random.normal(0, 1, 1000) \n",
    "\n",
    "# DGPs for y1 \n",
    "y1 = 1 + 2 * x + e1"
   ]
  },
  {
   "cell_type": "code",
   "execution_count": 25,
   "metadata": {
    "collapsed": false
   },
   "outputs": [
    {
     "name": "stdout",
     "output_type": "stream",
     "text": [
      "                            OLS Regression Results                            \n",
      "==============================================================================\n",
      "Dep. Variable:                     y1   R-squared:                       0.794\n",
      "Model:                            OLS   Adj. R-squared:                  0.794\n",
      "Method:                 Least Squares   F-statistic:                     3857.\n",
      "Date:                Wed, 23 Sep 2015   Prob (F-statistic):               0.00\n",
      "Time:                        19:44:48   Log-Likelihood:                -1430.6\n",
      "No. Observations:                1000   AIC:                             2865.\n",
      "Df Residuals:                     998   BIC:                             2875.\n",
      "Df Model:                           1                                         \n",
      "Covariance Type:            nonrobust                                         \n",
      "==============================================================================\n",
      "                 coef    std err          t      P>|t|      [95.0% Conf. Int.]\n",
      "------------------------------------------------------------------------------\n",
      "Intercept      0.9688      0.032     30.219      0.000         0.906     1.032\n",
      "x              2.0124      0.032     62.105      0.000         1.949     2.076\n",
      "==============================================================================\n",
      "Omnibus:                        0.402   Durbin-Watson:                   2.012\n",
      "Prob(Omnibus):                  0.818   Jarque-Bera (JB):                0.349\n",
      "Skew:                          -0.044   Prob(JB):                        0.840\n",
      "Kurtosis:                       3.024   Cond. No.                         1.05\n",
      "==============================================================================\n",
      "\n",
      "Warnings:\n",
      "[1] Standard Errors assume that the covariance matrix of the errors is correctly specified.\n"
     ]
    }
   ],
   "source": [
    "#Create panda dataframes from DGP x and y1, merge them into a single Dataframe and process OLS regression\n",
    "#print the results of the OLS\n",
    "x = pd.DataFrame(x)\n",
    "y1 = pd.DataFrame(y1)\n",
    "\n",
    "data1 = pd.merge(y1, x, left_index=True, right_index=True)\n",
    "\n",
    "mod1 = smf.ols(formula='y1 ~ x', data=data1).fit()\n",
    "print(mod1.summary())"
   ]
  },
  {
   "cell_type": "code",
   "execution_count": 26,
   "metadata": {
    "collapsed": false
   },
   "outputs": [
    {
     "name": "stdout",
     "output_type": "stream",
     "text": [
      "                            OLS Regression Results                            \n",
      "==============================================================================\n",
      "Dep. Variable:                     y1   R-squared:                       0.786\n",
      "Model:                            OLS   Adj. R-squared:                  0.785\n",
      "Method:                 Least Squares   F-statistic:                     3657.\n",
      "Date:                Wed, 23 Sep 2015   Prob (F-statistic):               0.00\n",
      "Time:                        19:44:49   Log-Likelihood:                -1439.1\n",
      "No. Observations:                1000   AIC:                             2882.\n",
      "Df Residuals:                     998   BIC:                             2892.\n",
      "Df Model:                           1                                         \n",
      "Covariance Type:            nonrobust                                         \n",
      "==============================================================================\n",
      "                 coef    std err          t      P>|t|      [95.0% Conf. Int.]\n",
      "------------------------------------------------------------------------------\n",
      "Intercept      1.0469      0.032     32.360      0.000         0.983     1.110\n",
      "x              1.9348      0.032     60.476      0.000         1.872     1.998\n",
      "==============================================================================\n",
      "Omnibus:                        0.557   Durbin-Watson:                   2.068\n",
      "Prob(Omnibus):                  0.757   Jarque-Bera (JB):                0.587\n",
      "Skew:                          -0.057   Prob(JB):                        0.745\n",
      "Kurtosis:                       2.964   Cond. No.                         1.06\n",
      "==============================================================================\n",
      "\n",
      "Warnings:\n",
      "[1] Standard Errors assume that the covariance matrix of the errors is correctly specified.\n"
     ]
    }
   ],
   "source": [
    "# Question 2 - Perform tha same excersice 4 additional times\n",
    "\n",
    "# Generator normal error and feature\n",
    "e1 = np.random.normal(0, 1, 1000)  \n",
    "x = np.random.normal(0, 1, 1000) \n",
    "\n",
    "# DGPs for y1 \n",
    "y1 = 1 + 2 * x + e1\n",
    "\n",
    "#Create panda dataframes from DGP x and y1, merge them into a single Dataframe and process OLS regression\n",
    "#print the results of the OLS\n",
    "x = pd.DataFrame(x)\n",
    "y1 = pd.DataFrame(y1)\n",
    "\n",
    "data1 = pd.merge(y1, x, left_index=True, right_index=True)\n",
    "\n",
    "mod1 = smf.ols(formula='y1 ~ x', data=data1).fit()\n",
    "print(mod1.summary())\n"
   ]
  },
  {
   "cell_type": "code",
   "execution_count": 27,
   "metadata": {
    "collapsed": false
   },
   "outputs": [
    {
     "name": "stdout",
     "output_type": "stream",
     "text": [
      "                            OLS Regression Results                            \n",
      "==============================================================================\n",
      "Dep. Variable:                     y1   R-squared:                       0.787\n",
      "Model:                            OLS   Adj. R-squared:                  0.787\n",
      "Method:                 Least Squares   F-statistic:                     3688.\n",
      "Date:                Wed, 23 Sep 2015   Prob (F-statistic):               0.00\n",
      "Time:                        19:44:50   Log-Likelihood:                -1456.2\n",
      "No. Observations:                1000   AIC:                             2916.\n",
      "Df Residuals:                     998   BIC:                             2926.\n",
      "Df Model:                           1                                         \n",
      "Covariance Type:            nonrobust                                         \n",
      "==============================================================================\n",
      "                 coef    std err          t      P>|t|      [95.0% Conf. Int.]\n",
      "------------------------------------------------------------------------------\n",
      "Intercept      1.0008      0.033     30.451      0.000         0.936     1.065\n",
      "x              2.0112      0.033     60.730      0.000         1.946     2.076\n",
      "==============================================================================\n",
      "Omnibus:                        1.263   Durbin-Watson:                   1.906\n",
      "Prob(Omnibus):                  0.532   Jarque-Bera (JB):                1.342\n",
      "Skew:                           0.074   Prob(JB):                        0.511\n",
      "Kurtosis:                       2.899   Cond. No.                         1.03\n",
      "==============================================================================\n",
      "\n",
      "Warnings:\n",
      "[1] Standard Errors assume that the covariance matrix of the errors is correctly specified.\n"
     ]
    }
   ],
   "source": [
    "# Generator normal error and feature\n",
    "e1 = np.random.normal(0, 1, 1000)  \n",
    "x = np.random.normal(0, 1, 1000) \n",
    "\n",
    "# DGPs for y1 \n",
    "y1 = 1 + 2 * x + e1\n",
    "\n",
    "#Create panda dataframes from DGP x and y1, merge them into a single Dataframe and process OLS regression\n",
    "#print the results of the OLS\n",
    "x = pd.DataFrame(x)\n",
    "y1 = pd.DataFrame(y1)\n",
    "\n",
    "data1 = pd.merge(y1, x, left_index=True, right_index=True)\n",
    "\n",
    "mod1 = smf.ols(formula='y1 ~ x', data=data1).fit()\n",
    "print(mod1.summary())"
   ]
  },
  {
   "cell_type": "code",
   "execution_count": 28,
   "metadata": {
    "collapsed": false
   },
   "outputs": [
    {
     "name": "stdout",
     "output_type": "stream",
     "text": [
      "                            OLS Regression Results                            \n",
      "==============================================================================\n",
      "Dep. Variable:                     y1   R-squared:                       0.797\n",
      "Model:                            OLS   Adj. R-squared:                  0.796\n",
      "Method:                 Least Squares   F-statistic:                     3908.\n",
      "Date:                Wed, 23 Sep 2015   Prob (F-statistic):               0.00\n",
      "Time:                        19:44:51   Log-Likelihood:                -1416.6\n",
      "No. Observations:                1000   AIC:                             2837.\n",
      "Df Residuals:                     998   BIC:                             2847.\n",
      "Df Model:                           1                                         \n",
      "Covariance Type:            nonrobust                                         \n",
      "==============================================================================\n",
      "                 coef    std err          t      P>|t|      [95.0% Conf. Int.]\n",
      "------------------------------------------------------------------------------\n",
      "Intercept      1.0210      0.032     32.323      0.000         0.959     1.083\n",
      "x              2.0144      0.032     62.512      0.000         1.951     2.078\n",
      "==============================================================================\n",
      "Omnibus:                        1.240   Durbin-Watson:                   2.021\n",
      "Prob(Omnibus):                  0.538   Jarque-Bera (JB):                1.320\n",
      "Skew:                           0.073   Prob(JB):                        0.517\n",
      "Kurtosis:                       2.898   Cond. No.                         1.03\n",
      "==============================================================================\n",
      "\n",
      "Warnings:\n",
      "[1] Standard Errors assume that the covariance matrix of the errors is correctly specified.\n"
     ]
    }
   ],
   "source": [
    "# Generator normal error and feature\n",
    "e1 = np.random.normal(0, 1, 1000)  \n",
    "x = np.random.normal(0, 1, 1000) \n",
    "\n",
    "# DGPs for y1 \n",
    "y1 = 1 + 2 * x + e1\n",
    "\n",
    "#Create panda dataframes from DGP x and y1, merge them into a single Dataframe and process OLS regression\n",
    "#print the results of the OLS\n",
    "x = pd.DataFrame(x)\n",
    "y1 = pd.DataFrame(y1)\n",
    "\n",
    "data1 = pd.merge(y1, x, left_index=True, right_index=True)\n",
    "\n",
    "mod1 = smf.ols(formula='y1 ~ x', data=data1).fit()\n",
    "print(mod1.summary())"
   ]
  },
  {
   "cell_type": "code",
   "execution_count": 29,
   "metadata": {
    "collapsed": false
   },
   "outputs": [
    {
     "name": "stdout",
     "output_type": "stream",
     "text": [
      "                            OLS Regression Results                            \n",
      "==============================================================================\n",
      "Dep. Variable:                     y1   R-squared:                       0.805\n",
      "Model:                            OLS   Adj. R-squared:                  0.805\n",
      "Method:                 Least Squares   F-statistic:                     4131.\n",
      "Date:                Wed, 23 Sep 2015   Prob (F-statistic):               0.00\n",
      "Time:                        19:44:51   Log-Likelihood:                -1415.8\n",
      "No. Observations:                1000   AIC:                             2836.\n",
      "Df Residuals:                     998   BIC:                             2845.\n",
      "Df Model:                           1                                         \n",
      "Covariance Type:            nonrobust                                         \n",
      "==============================================================================\n",
      "                 coef    std err          t      P>|t|      [95.0% Conf. Int.]\n",
      "------------------------------------------------------------------------------\n",
      "Intercept      1.0799      0.032     34.221      0.000         1.018     1.142\n",
      "x              2.0167      0.031     64.272      0.000         1.955     2.078\n",
      "==============================================================================\n",
      "Omnibus:                        1.353   Durbin-Watson:                   2.048\n",
      "Prob(Omnibus):                  0.508   Jarque-Bera (JB):                1.402\n",
      "Skew:                          -0.087   Prob(JB):                        0.496\n",
      "Kurtosis:                       2.943   Cond. No.                         1.01\n",
      "==============================================================================\n",
      "\n",
      "Warnings:\n",
      "[1] Standard Errors assume that the covariance matrix of the errors is correctly specified.\n"
     ]
    }
   ],
   "source": [
    "# Generator normal error and feature\n",
    "e1 = np.random.normal(0, 1, 1000)  \n",
    "x = np.random.normal(0, 1, 1000) \n",
    "\n",
    "# DGPs for y1 \n",
    "y1 = 1 + 2 * x + e1\n",
    "\n",
    "#Create panda dataframes from DGP x and y1, merge them into a single Dataframe and process OLS regression\n",
    "#print the results of the OLS\n",
    "x = pd.DataFrame(x)\n",
    "y1 = pd.DataFrame(y1)\n",
    "\n",
    "data1 = pd.merge(y1, x, left_index=True, right_index=True)\n",
    "\n",
    "mod1 = smf.ols(formula='y1 ~ x', data=data1).fit()\n",
    "print(mod1.summary())"
   ]
  },
  {
   "cell_type": "code",
   "execution_count": 21,
   "metadata": {
    "collapsed": false
   },
   "outputs": [
    {
     "data": {
      "text/plain": [
       "<matplotlib.text.Text at 0x1ba75240>"
      ]
     },
     "execution_count": 21,
     "metadata": {},
     "output_type": "execute_result"
    }
   ],
   "source": [
    "#Question 3 - Generate a 1000 repetition of the experiment, getting B1 vallues for each repetition and \n",
    "#and generatiing a histogram of this B1 vaues.\n",
    "\n",
    "#Defining a empty list for the OLS parameters\n",
    "\n",
    "params = []\n",
    "\n",
    "# Generating a Loop to repeat the experiment 1000 times:\n",
    "\n",
    "for i in range (0, 1000):\n",
    "    e1 = np.random.normal(0, 1, 1000)  \n",
    "    x = np.random.normal(0, 1, 1000) \n",
    "\n",
    "    # DGPs for y1 \n",
    "    y1 = 1 + 2 * x + e1\n",
    "\n",
    "    #Create panda dataframes from DGP x and y1, merge them into a single Dataframe and process OLS regression\n",
    "    #print the results of the OLS\n",
    "    x = pd.DataFrame(x)\n",
    "    y1 = pd.DataFrame(y1)\n",
    "\n",
    "    data1 = pd.merge(y1, x, left_index=True, right_index=True)\n",
    "    mod1 = smf.ols(formula='y1 ~ x', data=data1).fit()\n",
    "    \n",
    "    #obtaining the paramenters (B0 and B1) of each repetition    \n",
    "    f = mod1.params\n",
    "    \n",
    "    # Storing them in the list \n",
    "    params.append(f)\n",
    "\n",
    "# Creating a Panda Dataframe of the list     \n",
    "paramsdf = pd.DataFrame(params)\n",
    "# Droping the Intercept parameter of the Dataframe\n",
    "beta1dff = paramsdf.drop(\"Intercept\", 1)\n",
    "# proving the conditions of the dataframe\n",
    "beta1dff.shape\n",
    "# Plotting the dataframe of simulated B1's\n",
    "plt.figure(figsize= (10,10))\n",
    "beta1dff.plot(kind='hist', color='blue')\n",
    "plt.title('Histogram of B1 results - 1000 repetitions', fontsize=20)\n",
    "plt.ylabel('# of Ocurrences', fontsize=18)"
   ]
  },
  {
   "cell_type": "markdown",
   "metadata": {
    "collapsed": true
   },
   "source": [
    "<img src = \"Figure_7.png\">"
   ]
  },
  {
   "cell_type": "markdown",
   "metadata": {},
   "source": [
    "In this case, when we run a simulation of this kind, we obtain from the histogram that the estimations of the B1 parameter for a a 1.000 sample Drawn seem to be normaly distributed, since they were obtained for 1.000 draws of 1.000 normally distributed samples of both X1 and E1. The dispersion of this different B1 meassures in the histogram thus represents the estimated distribution of the errors and the estimated X1 values that affect the estimations of the Y variable over the 1.000 samples.  "
   ]
  },
  {
   "cell_type": "code",
   "execution_count": 22,
   "metadata": {
    "collapsed": false
   },
   "outputs": [
    {
     "data": {
      "text/plain": [
       "<matplotlib.text.Text at 0x1bcd67f0>"
      ]
     },
     "execution_count": 22,
     "metadata": {},
     "output_type": "execute_result"
    }
   ],
   "source": [
    "#Question 4 - Obtain the distribution of a functional transformation of B1 exp(b1).\n",
    "\n",
    "#Modifing the dataframe to generate a new one with the funtional transformation\n",
    "\n",
    "ebeta1dff = beta1dff.apply(np.exp)\n",
    "# Plotting the dataframe of simulated B1's\n",
    "plt.figure(figsize= (10,10))\n",
    "ebeta1dff.plot(kind='hist', color='blue')\n",
    "plt.title('Histogram of exp(B1) results - 1000 repetitions', fontsize=20)\n",
    "plt.ylabel('# of Ocurrences', fontsize=18)"
   ]
  },
  {
   "cell_type": "markdown",
   "metadata": {},
   "source": [
    "<img src = \"Figure_8.png\">"
   ]
  },
  {
   "cell_type": "code",
   "execution_count": 23,
   "metadata": {
    "collapsed": false
   },
   "outputs": [
    {
     "data": {
      "text/plain": [
       "(0.21825696999962929,\n",
       " array([ 0.574,  0.653,  0.784,  0.914,  1.088]),\n",
       " array([ 15. ,  10. ,   5. ,   2.5,   1. ]))"
      ]
     },
     "execution_count": 23,
     "metadata": {},
     "output_type": "execute_result"
    }
   ],
   "source": [
    "#Sample analysis using Anderson-Darling test to prove normality \n",
    "stats.anderson(ebeta1dff['x'], dist='norm')"
   ]
  },
  {
   "cell_type": "markdown",
   "metadata": {},
   "source": [
    "To test what type of distribution the data follows, we use 2 tools:\n",
    "\n",
    "1. An histogram of the sample to visually analize if it is normaly distributed\n",
    "2. Perform a Anderson-Darling test to statistically prove normality of the sample\n",
    "\n",
    "In this case, given the histogram of the values of exp(B1) and the A2 value compared to the critical values of the Anderson-Darlin test (for 10%, 5%, 2.5% and 1%), we have no reason to reject the null hypotests of the data being normally distributed."
   ]
  },
  {
   "cell_type": "code",
   "execution_count": null,
   "metadata": {
    "collapsed": true
   },
   "outputs": [],
   "source": []
  }
 ],
 "metadata": {
  "kernelspec": {
   "display_name": "Python 2",
   "language": "python",
   "name": "python2"
  },
  "language_info": {
   "codemirror_mode": {
    "name": "ipython",
    "version": 2
   },
   "file_extension": ".py",
   "mimetype": "text/x-python",
   "name": "python",
   "nbconvert_exporter": "python",
   "pygments_lexer": "ipython2",
   "version": "2.7.10"
  }
 },
 "nbformat": 4,
 "nbformat_minor": 0
}
