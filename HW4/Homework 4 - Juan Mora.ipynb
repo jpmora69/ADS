{
 "cells": [
  {
   "cell_type": "code",
   "execution_count": 1,
   "metadata": {
    "collapsed": false
   },
   "outputs": [
    {
     "name": "stdout",
     "output_type": "stream",
     "text": [
      "Populating the interactive namespace from numpy and matplotlib\n"
     ]
    }
   ],
   "source": [
    "# import required libraries\n",
    "\n",
    "%pylab inline\n",
    "import matplotlib.pyplot as plt\n",
    "import numpy as np\n",
    "import pandas as pd\n",
    "import statsmodels.api as sm\n",
    "import statsmodels.formula.api as smf\n",
    "from statsmodels.graphics.api import abline_plot\n",
    "import patsy\n",
    "import seaborn as sns\n",
    "sns.set(context='notebook', style='whitegrid', palette='deep', font='sans-serif', font_scale=1, rc=None)\n",
    "import urllib2 as url"
   ]
  },
  {
   "cell_type": "code",
   "execution_count": 2,
   "metadata": {
    "collapsed": true
   },
   "outputs": [],
   "source": [
    "#Importing tha data required\n",
    "data = pd.read_csv('bk_logit.csv')"
   ]
  },
  {
   "cell_type": "code",
   "execution_count": 4,
   "metadata": {
    "collapsed": false
   },
   "outputs": [
    {
     "name": "stdout",
     "output_type": "stream",
     "text": [
      "<class 'pandas.core.frame.DataFrame'>\n",
      "Int64Index: 30799 entries, 0 to 30798\n",
      "Data columns (total 4 columns):\n",
      "bk             30799 non-null int64\n",
      "age            30799 non-null int64\n",
      "unit_size      30799 non-null float64\n",
      "single_unit    30799 non-null int64\n",
      "dtypes: float64(1), int64(3)\n",
      "memory usage: 1.2 MB\n",
      "None\n",
      "                 bk           age     unit_size   single_unit\n",
      "count  30799.000000  30799.000000  30799.000000  30799.000000\n",
      "mean       0.307802     65.888211    218.766696      0.424267\n",
      "std        0.461592     31.248772    124.524345      0.494239\n",
      "min        0.000000      0.000000      9.290300      0.000000\n",
      "25%        0.000000     50.000000    138.239670      0.000000\n",
      "50%        0.000000     75.000000    187.292450      0.000000\n",
      "75%        1.000000     87.000000    263.380000      1.000000\n",
      "max        1.000000    212.000000    996.384700      1.000000\n"
     ]
    }
   ],
   "source": [
    "#Printing data details and statistics\n",
    "print data.info()\n",
    "print data.describe()"
   ]
  },
  {
   "cell_type": "code",
   "execution_count": 5,
   "metadata": {
    "collapsed": false
   },
   "outputs": [
    {
     "name": "stdout",
     "output_type": "stream",
     "text": [
      "Optimization terminated successfully.\n",
      "         Current function value: 0.555319\n",
      "         Iterations 6\n",
      "\n",
      "                           Logit Regression Results                           \n",
      "==============================================================================\n",
      "Dep. Variable:                     bk   No. Observations:                30799\n",
      "Model:                          Logit   Df Residuals:                    30795\n",
      "Method:                           MLE   Df Model:                            3\n",
      "Date:                Sat, 10 Oct 2015   Pseudo R-squ.:                  0.1005\n",
      "Time:                        09:16:36   Log-Likelihood:                -17103.\n",
      "converged:                       True   LL-Null:                       -19013.\n",
      "                                        LLR p-value:                     0.000\n",
      "===============================================================================\n",
      "                  coef    std err          z      P>|z|      [95.0% Conf. Int.]\n",
      "-------------------------------------------------------------------------------\n",
      "Intercept      -2.2461      0.049    -46.114      0.000        -2.342    -2.151\n",
      "age             0.0186      0.000     38.985      0.000         0.018     0.020\n",
      "unit_size       0.0020      0.000     18.332      0.000         0.002     0.002\n",
      "single_unit    -0.8314      0.030    -28.043      0.000        -0.890    -0.773\n",
      "===============================================================================\n"
     ]
    }
   ],
   "source": [
    "# performing a logisicc regression on bk due to age, size and single uniit\n",
    "logit_mod = smf.logit('bk ~ age + unit_size + single_unit', data = data).fit()\n",
    "print\n",
    "print(logit_mod.summary())"
   ]
  },
  {
   "cell_type": "code",
   "execution_count": 6,
   "metadata": {
    "collapsed": false
   },
   "outputs": [
    {
     "name": "stdout",
     "output_type": "stream",
     "text": [
      "        Logit Marginal Effects       \n",
      "=====================================\n",
      "Dep. Variable:                     bk\n",
      "Method:                          dydx\n",
      "At:                           overall\n",
      "===============================================================================\n",
      "                 dy/dx    std err          z      P>|z|      [95.0% Conf. Int.]\n",
      "-------------------------------------------------------------------------------\n",
      "age             0.0035    8.2e-05     42.534      0.000         0.003     0.004\n",
      "unit_size       0.0004      2e-05     18.723      0.000         0.000     0.000\n",
      "single_unit    -0.1558      0.005    -29.286      0.000        -0.166    -0.145\n",
      "===============================================================================\n"
     ]
    }
   ],
   "source": [
    "#Calculating marginal effects table\n",
    "marginal = logit_mod.get_margeff()\n",
    "print(marginal.summary())"
   ]
  },
  {
   "cell_type": "markdown",
   "metadata": {},
   "source": [
    "Due to the results of the marginal effects of the logistic regression we can interpret that:\n",
    "\n",
    "- The age has a positive effect on the probability of a sales in brooklyn by an increase of 0.35% for each year the property has.\n",
    "- The size unit has also a positive effect on the probability of a sales in brooklyn of 0.04% for each additional square meter the unit has.\n",
    "- The sales indicator of a single unit however has a negative effect on the probability of a sales of a unit in brooklyn by 15.58%.\n",
    "    "
   ]
  },
  {
   "cell_type": "markdown",
   "metadata": {},
   "source": [
    "We can confirm this interpretation by running  a OLS regression on BK using the same explanatory variables to see if the marginal effect is similar or not"
   ]
  },
  {
   "cell_type": "code",
   "execution_count": 8,
   "metadata": {
    "collapsed": false
   },
   "outputs": [
    {
     "name": "stdout",
     "output_type": "stream",
     "text": [
      "                            OLS Regression Results                            \n",
      "==============================================================================\n",
      "Dep. Variable:                     bk   R-squared:                       0.117\n",
      "Model:                            OLS   Adj. R-squared:                  0.117\n",
      "Method:                 Least Squares   F-statistic:                     1364.\n",
      "Date:                Sat, 10 Oct 2015   Prob (F-statistic):               0.00\n",
      "Time:                        09:29:53   Log-Likelihood:                -17970.\n",
      "No. Observations:               30799   AIC:                         3.595e+04\n",
      "Df Residuals:                   30795   BIC:                         3.598e+04\n",
      "Df Model:                           3                                         \n",
      "Covariance Type:            nonrobust                                         \n",
      "===============================================================================\n",
      "                  coef    std err          t      P>|t|      [95.0% Conf. Int.]\n",
      "-------------------------------------------------------------------------------\n",
      "Intercept       0.0537      0.009      6.293      0.000         0.037     0.070\n",
      "age             0.0034   7.95e-05     42.795      0.000         0.003     0.004\n",
      "unit_size       0.0004   2.14e-05     20.453      0.000         0.000     0.000\n",
      "single_unit    -0.1552      0.005    -28.658      0.000        -0.166    -0.145\n",
      "==============================================================================\n",
      "Omnibus:                     9637.300   Durbin-Watson:                   0.183\n",
      "Prob(Omnibus):                  0.000   Jarque-Bera (JB):             3545.317\n",
      "Skew:                           0.657   Prob(JB):                         0.00\n",
      "Kurtosis:                       1.982   Cond. No.                         959.\n",
      "==============================================================================\n",
      "\n",
      "Warnings:\n",
      "[1] Standard Errors assume that the covariance matrix of the errors is correctly specified.\n"
     ]
    }
   ],
   "source": [
    "# Calculating a OLS reggrerion on BK due to age, size, and single unit indicator\n",
    "mod = smf.ols(formula='bk ~ age + unit_size + single_unit', data = data).fit()\n",
    "print(mod.summary())"
   ]
  },
  {
   "cell_type": "markdown",
   "metadata": {},
   "source": [
    "As we can see from the coefficients of the OLS regression, the marginal effects estimated are almos identical in the logistic regression"
   ]
  },
  {
   "cell_type": "code",
   "execution_count": null,
   "metadata": {
    "collapsed": true
   },
   "outputs": [],
   "source": []
  }
 ],
 "metadata": {
  "kernelspec": {
   "display_name": "Python 2",
   "language": "python",
   "name": "python2"
  },
  "language_info": {
   "codemirror_mode": {
    "name": "ipython",
    "version": 2
   },
   "file_extension": ".py",
   "mimetype": "text/x-python",
   "name": "python",
   "nbconvert_exporter": "python",
   "pygments_lexer": "ipython2",
   "version": "2.7.10"
  }
 },
 "nbformat": 4,
 "nbformat_minor": 0
}
