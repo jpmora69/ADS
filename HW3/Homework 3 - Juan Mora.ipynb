{
 "cells": [
  {
   "cell_type": "code",
   "execution_count": 1,
   "metadata": {
    "collapsed": false
   },
   "outputs": [
    {
     "name": "stdout",
     "output_type": "stream",
     "text": [
      "Populating the interactive namespace from numpy and matplotlib\n"
     ]
    }
   ],
   "source": [
    "# Importing all required modules\n",
    "%pylab inline\n",
    "import matplotlib.pyplot as plt\n",
    "import numpy as np\n",
    "import pandas as pd\n",
    "import statsmodels.api as sm\n",
    "import statsmodels.formula.api as smf\n",
    "from statsmodels.graphics.api import abline_plot\n",
    "import patsy\n",
    "import seaborn as sns\n",
    "sns.set(context='notebook', style='whitegrid', palette='deep', font='sans-serif', font_scale=1, rc=None)\n",
    "import urllib2 as url"
   ]
  },
  {
   "cell_type": "code",
   "execution_count": 2,
   "metadata": {
    "collapsed": true
   },
   "outputs": [],
   "source": [
    "# Importing stata data set\n",
    "sales = pd.read_stata(\"SI Sales Old.dta\")"
   ]
  },
  {
   "cell_type": "code",
   "execution_count": 3,
   "metadata": {
    "collapsed": false
   },
   "outputs": [
    {
     "name": "stdout",
     "output_type": "stream",
     "text": [
      "                            OLS Regression Results                            \n",
      "==============================================================================\n",
      "Dep. Variable:                  price   R-squared:                       0.302\n",
      "Model:                            OLS   Adj. R-squared:                  0.302\n",
      "Method:                 Least Squares   F-statistic:                 1.372e+04\n",
      "Date:                Wed, 30 Sep 2015   Prob (F-statistic):               0.00\n",
      "Time:                        14:21:23   Log-Likelihood:            -4.3166e+05\n",
      "No. Observations:               31680   AIC:                         8.633e+05\n",
      "Df Residuals:                   31678   BIC:                         8.633e+05\n",
      "Df Model:                           1                                         \n",
      "Covariance Type:            nonrobust                                         \n",
      "==============================================================================\n",
      "                 coef    std err          t      P>|t|      [95.0% Conf. Int.]\n",
      "------------------------------------------------------------------------------\n",
      "Intercept    1.35e+05   2542.335     53.118      0.000       1.3e+05   1.4e+05\n",
      "unit_size   1658.3706     14.159    117.121      0.000      1630.618  1686.124\n",
      "==============================================================================\n",
      "Omnibus:                    51914.230   Durbin-Watson:                   1.973\n",
      "Prob(Omnibus):                  0.000   Jarque-Bera (JB):        103733692.864\n",
      "Skew:                          10.534   Prob(JB):                         0.00\n",
      "Kurtosis:                     282.539   Cond. No.                         406.\n",
      "==============================================================================\n",
      "\n",
      "Warnings:\n",
      "[1] Standard Errors assume that the covariance matrix of the errors is correctly specified.\n"
     ]
    }
   ],
   "source": [
    "#Question 1\n",
    "# recreating regression results seen in class\n",
    "# regression on price given unit size\n",
    "mod = smf.ols(formula='price ~ unit_size', data = sales).fit()\n",
    "print(mod.summary())"
   ]
  },
  {
   "cell_type": "code",
   "execution_count": 4,
   "metadata": {
    "collapsed": false
   },
   "outputs": [
    {
     "name": "stdout",
     "output_type": "stream",
     "text": [
      "                            OLS Regression Results                            \n",
      "==============================================================================\n",
      "Dep. Variable:                  price   R-squared:                       0.387\n",
      "Model:                            OLS   Adj. R-squared:                  0.387\n",
      "Method:                 Least Squares   F-statistic:                     9985.\n",
      "Date:                Wed, 30 Sep 2015   Prob (F-statistic):               0.00\n",
      "Time:                        14:21:25   Log-Likelihood:            -4.2961e+05\n",
      "No. Observations:               31680   AIC:                         8.592e+05\n",
      "Df Residuals:                   31677   BIC:                         8.593e+05\n",
      "Df Model:                           2                                         \n",
      "Covariance Type:            nonrobust                                         \n",
      "==============================================================================\n",
      "                 coef    std err          t      P>|t|      [95.0% Conf. Int.]\n",
      "------------------------------------------------------------------------------\n",
      "Intercept   1.179e+05   2397.598     49.177      0.000      1.13e+05  1.23e+05\n",
      "unit_size   1221.3016     14.833     82.339      0.000      1192.229  1250.374\n",
      "land_size    268.4246      4.064     66.053      0.000       260.459   276.390\n",
      "==============================================================================\n",
      "Omnibus:                    54911.523   Durbin-Watson:                   1.975\n",
      "Prob(Omnibus):                  0.000   Jarque-Bera (JB):        162331043.514\n",
      "Skew:                          11.765   Prob(JB):                         0.00\n",
      "Kurtosis:                     352.892   Cond. No.                     1.05e+03\n",
      "==============================================================================\n",
      "\n",
      "Warnings:\n",
      "[1] Standard Errors assume that the covariance matrix of the errors is correctly specified.\n",
      "[2] The condition number is large, 1.05e+03. This might indicate that there are\n",
      "strong multicollinearity or other numerical problems.\n"
     ]
    }
   ],
   "source": [
    "# regression on price given unit size and land size\n",
    "mod = smf.ols(formula='price ~ unit_size + land_size', data = sales).fit()\n",
    "print(mod.summary())"
   ]
  },
  {
   "cell_type": "code",
   "execution_count": 5,
   "metadata": {
    "collapsed": false
   },
   "outputs": [
    {
     "name": "stdout",
     "output_type": "stream",
     "text": [
      "                            OLS Regression Results                            \n",
      "==============================================================================\n",
      "Dep. Variable:                  price   R-squared:                       0.393\n",
      "Model:                            OLS   Adj. R-squared:                  0.393\n",
      "Method:                 Least Squares   F-statistic:                     6840.\n",
      "Date:                Wed, 30 Sep 2015   Prob (F-statistic):               0.00\n",
      "Time:                        14:21:27   Log-Likelihood:            -4.2945e+05\n",
      "No. Observations:               31680   AIC:                         8.589e+05\n",
      "Df Residuals:                   31676   BIC:                         8.589e+05\n",
      "Df Model:                           3                                         \n",
      "Covariance Type:            nonrobust                                         \n",
      "==============================================================================\n",
      "                 coef    std err          t      P>|t|      [95.0% Conf. Int.]\n",
      "------------------------------------------------------------------------------\n",
      "Intercept   1.496e+05   2940.848     50.854      0.000      1.44e+05  1.55e+05\n",
      "unit_size   1110.9812     15.927     69.755      0.000      1079.764  1142.198\n",
      "land_size    302.4288      4.445     68.038      0.000       293.716   311.141\n",
      "age         -696.5604     37.871    -18.393      0.000      -770.789  -622.332\n",
      "==============================================================================\n",
      "Omnibus:                    55260.071   Durbin-Watson:                   1.977\n",
      "Prob(Omnibus):                  0.000   Jarque-Bera (JB):        168661973.654\n",
      "Skew:                          11.921   Prob(JB):                         0.00\n",
      "Kurtosis:                     359.659   Cond. No.                     1.30e+03\n",
      "==============================================================================\n",
      "\n",
      "Warnings:\n",
      "[1] Standard Errors assume that the covariance matrix of the errors is correctly specified.\n",
      "[2] The condition number is large, 1.3e+03. This might indicate that there are\n",
      "strong multicollinearity or other numerical problems.\n"
     ]
    }
   ],
   "source": [
    "# regression on price given unit size, land size and age of unit\n",
    "mod = smf.ols(formula='price ~ unit_size + land_size + age', data = sales).fit()\n",
    "print(mod.summary())"
   ]
  },
  {
   "cell_type": "code",
   "execution_count": 6,
   "metadata": {
    "collapsed": false
   },
   "outputs": [
    {
     "name": "stdout",
     "output_type": "stream",
     "text": [
      "                            OLS Regression Results                            \n",
      "==============================================================================\n",
      "Dep. Variable:                  price   R-squared:                       0.406\n",
      "Model:                            OLS   Adj. R-squared:                  0.406\n",
      "Method:                 Least Squares   F-statistic:                     5421.\n",
      "Date:                Wed, 30 Sep 2015   Prob (F-statistic):               0.00\n",
      "Time:                        14:21:28   Log-Likelihood:            -4.2910e+05\n",
      "No. Observations:               31680   AIC:                         8.582e+05\n",
      "Df Residuals:                   31675   BIC:                         8.582e+05\n",
      "Df Model:                           4                                         \n",
      "Covariance Type:            nonrobust                                         \n",
      "==============================================================================\n",
      "                 coef    std err          t      P>|t|      [95.0% Conf. Int.]\n",
      "------------------------------------------------------------------------------\n",
      "Intercept   1.674e+05   2985.210     56.076      0.000      1.62e+05  1.73e+05\n",
      "unit_size   1033.9862     16.017     64.556      0.000      1002.592  1065.380\n",
      "land_size    275.1814      4.514     60.956      0.000       266.333   284.030\n",
      "age         -671.3910     37.469    -17.919      0.000      -744.831  -597.951\n",
      "todt        3.574e+05   1.35e+04     26.565      0.000      3.31e+05  3.84e+05\n",
      "==============================================================================\n",
      "Omnibus:                    55772.049   Durbin-Watson:                   1.978\n",
      "Prob(Omnibus):                  0.000   Jarque-Bera (JB):        183883239.453\n",
      "Skew:                          12.140   Prob(JB):                         0.00\n",
      "Kurtosis:                     375.446   Cond. No.                     6.00e+03\n",
      "==============================================================================\n",
      "\n",
      "Warnings:\n",
      "[1] Standard Errors assume that the covariance matrix of the errors is correctly specified.\n",
      "[2] The condition number is large,  6e+03. This might indicate that there are\n",
      "strong multicollinearity or other numerical problems.\n"
     ]
    }
   ],
   "source": [
    "# regression on price given unit size, land size, age of unit and values in tod hill\n",
    "mod = smf.ols(formula='price ~ unit_size + land_size + age + todt', data = sales).fit()\n",
    "print(mod.summary())"
   ]
  },
  {
   "cell_type": "code",
   "execution_count": 8,
   "metadata": {
    "collapsed": false
   },
   "outputs": [],
   "source": [
    "#Question 2\n",
    "# Creating a dummy variable for linear trend using the minimum of the sales year dataframe as a base\n",
    "#(N-1) to start with 1 as the minimum year\n",
    "x = min(sales['sales_year'])-1\n",
    "\n",
    "# creating a new list an populating it with linear values \n",
    "a = []\n",
    "for n in sales['sales_year']:\n",
    "    b = (n - x)\n",
    "    a.append(b)\n",
    "\n",
    "#Converting the list to a Dataframe and merging it with the sales dataframe\n",
    "sales_year_trend = pd.DataFrame(a, columns=['sales_year_trend'])\n",
    "sales1 = pd.merge(sales, sales_year_trend, left_index=True,right_index=True)"
   ]
  },
  {
   "cell_type": "code",
   "execution_count": 9,
   "metadata": {
    "collapsed": false
   },
   "outputs": [
    {
     "name": "stdout",
     "output_type": "stream",
     "text": [
      "                            OLS Regression Results                            \n",
      "==============================================================================\n",
      "Dep. Variable:                  price   R-squared:                       0.412\n",
      "Model:                            OLS   Adj. R-squared:                  0.412\n",
      "Method:                 Least Squares   F-statistic:                     4431.\n",
      "Date:                Wed, 30 Sep 2015   Prob (F-statistic):               0.00\n",
      "Time:                        14:22:08   Log-Likelihood:            -4.2896e+05\n",
      "No. Observations:               31680   AIC:                         8.579e+05\n",
      "Df Residuals:                   31674   BIC:                         8.580e+05\n",
      "Df Model:                           5                                         \n",
      "Covariance Type:            nonrobust                                         \n",
      "====================================================================================\n",
      "                       coef    std err          t      P>|t|      [95.0% Conf. Int.]\n",
      "------------------------------------------------------------------------------------\n",
      "Intercept         1.435e+05   3295.435     43.547      0.000      1.37e+05   1.5e+05\n",
      "unit_size         1025.3781     15.955     64.268      0.000       994.106  1056.650\n",
      "land_size          273.3928      4.496     60.810      0.000       264.581   282.205\n",
      "age               -741.6398     37.538    -19.757      0.000      -815.216  -668.064\n",
      "todt              3.598e+05   1.34e+04     26.859      0.000      3.34e+05  3.86e+05\n",
      "sales_year_trend  6325.6901    376.930     16.782      0.000      5586.892  7064.488\n",
      "==============================================================================\n",
      "Omnibus:                    56152.847   Durbin-Watson:                   1.979\n",
      "Prob(Omnibus):                  0.000   Jarque-Bera (JB):        191594744.043\n",
      "Skew:                          12.315   Prob(JB):                         0.00\n",
      "Kurtosis:                     383.185   Cond. No.                     6.00e+03\n",
      "==============================================================================\n",
      "\n",
      "Warnings:\n",
      "[1] Standard Errors assume that the covariance matrix of the errors is correctly specified.\n",
      "[2] The condition number is large,  6e+03. This might indicate that there are\n",
      "strong multicollinearity or other numerical problems.\n"
     ]
    }
   ],
   "source": [
    "# regression on price given unit size, land size, age of unit and values in tod hill\n",
    "mod = smf.ols(formula='price ~ unit_size + land_size + age + todt + sales_year_trend', data = sales1).fit()\n",
    "print(mod.summary())"
   ]
  },
  {
   "cell_type": "markdown",
   "metadata": {
    "collapsed": true
   },
   "source": [
    "- For this regression we can interpret the estimated coeffient of the sales year trend, as a relationship in which an increase of one year of the sales year of the unit (starting from 2003 as year 1), has an effect of rising the sales price in aproximatelly USD 6.325 for each year.\n",
    "- The 95% confidence interval of this regression for this coeficient is from 5.586 to 7.064, which means that the result is within the 95% confidence interval.\n",
    "- Taking as a reference the result of the R squared coefficient, which went from 0.406 to 0.412, we can affirm that including the linear trend indicator improved the model fit to texplain the sales price."
   ]
  },
  {
   "cell_type": "code",
   "execution_count": 10,
   "metadata": {
    "collapsed": true
   },
   "outputs": [],
   "source": [
    "# Question 3 "
   ]
  },
  {
   "cell_type": "markdown",
   "metadata": {},
   "source": [
    "Since the scale (and proportion for that matter) in the two variables is changed at the same time (unit size and land size), I would initially think that we would not expect a change in the coeficient of the age variable, but only in the coeficients of those two variables (unit size and land size) keeping all the other relative unchanged."
   ]
  },
  {
   "cell_type": "code",
   "execution_count": 11,
   "metadata": {
    "collapsed": true
   },
   "outputs": [],
   "source": [
    "#Defining new columns with imperial Square feet values for unit size and land size\n",
    "sales1['unit_size_sqrft'] = sales1['unit_size'].mul(10.76391)\n",
    "sales1['land_size_sqrft'] = sales1['land_size'].mul(10.76391)"
   ]
  },
  {
   "cell_type": "code",
   "execution_count": 12,
   "metadata": {
    "collapsed": false
   },
   "outputs": [
    {
     "name": "stdout",
     "output_type": "stream",
     "text": [
      "                            OLS Regression Results                            \n",
      "==============================================================================\n",
      "Dep. Variable:                  price   R-squared:                       0.412\n",
      "Model:                            OLS   Adj. R-squared:                  0.412\n",
      "Method:                 Least Squares   F-statistic:                     4431.\n",
      "Date:                Wed, 30 Sep 2015   Prob (F-statistic):               0.00\n",
      "Time:                        14:23:14   Log-Likelihood:            -4.2896e+05\n",
      "No. Observations:               31680   AIC:                         8.579e+05\n",
      "Df Residuals:                   31674   BIC:                         8.580e+05\n",
      "Df Model:                           5                                         \n",
      "Covariance Type:            nonrobust                                         \n",
      "====================================================================================\n",
      "                       coef    std err          t      P>|t|      [95.0% Conf. Int.]\n",
      "------------------------------------------------------------------------------------\n",
      "Intercept         1.435e+05   3295.435     43.547      0.000      1.37e+05   1.5e+05\n",
      "unit_size_sqrft     95.2607      1.482     64.268      0.000        92.355    98.166\n",
      "land_size_sqrft     25.3990      0.418     60.810      0.000        24.580    26.218\n",
      "age               -741.6398     37.538    -19.757      0.000      -815.216  -668.064\n",
      "todt              3.598e+05   1.34e+04     26.859      0.000      3.34e+05  3.86e+05\n",
      "sales_year_trend  6325.6901    376.930     16.782      0.000      5586.892  7064.488\n",
      "==============================================================================\n",
      "Omnibus:                    56152.847   Durbin-Watson:                   1.979\n",
      "Prob(Omnibus):                  0.000   Jarque-Bera (JB):        191594744.930\n",
      "Skew:                          12.315   Prob(JB):                         0.00\n",
      "Kurtosis:                     383.185   Cond. No.                     6.44e+04\n",
      "==============================================================================\n",
      "\n",
      "Warnings:\n",
      "[1] Standard Errors assume that the covariance matrix of the errors is correctly specified.\n",
      "[2] The condition number is large, 6.44e+04. This might indicate that there are\n",
      "strong multicollinearity or other numerical problems.\n"
     ]
    }
   ],
   "source": [
    "# regression on price given unit size, land size, age of unit and values in tod hill\n",
    "mod = smf.ols(formula='price ~ unit_size_sqrft + land_size_sqrft + age + todt + sales_year_trend', data = sales1).fit()\n",
    "print(mod.summary())"
   ]
  },
  {
   "cell_type": "markdown",
   "metadata": {},
   "source": [
    "As expected, the only change in the coefficients in the regression was related to the land size and unit size variables, because of the change in the unit and proportions used, in each of them."
   ]
  },
  {
   "cell_type": "code",
   "execution_count": 13,
   "metadata": {
    "collapsed": true
   },
   "outputs": [],
   "source": [
    "#Question Number 4"
   ]
  },
  {
   "cell_type": "code",
   "execution_count": 14,
   "metadata": {
    "collapsed": false
   },
   "outputs": [],
   "source": [
    "# Generate normal error and multiple variables (10000 draws)\n",
    "e1 = np.random.normal(0, 1, 10000)  \n",
    "x1 = np.random.normal(0, 1, 10000)\n",
    "x2 = np.random.normal(0, 1, 10000)"
   ]
  },
  {
   "cell_type": "code",
   "execution_count": 15,
   "metadata": {
    "collapsed": true
   },
   "outputs": [],
   "source": [
    "# DGPs for y1 \n",
    "y1 = 1 + x1 + x2 + e1"
   ]
  },
  {
   "cell_type": "code",
   "execution_count": 16,
   "metadata": {
    "collapsed": false
   },
   "outputs": [
    {
     "data": {
      "text/plain": [
       "array([[ 1.        , -0.00369723],\n",
       "       [-0.00369723,  1.        ]])"
      ]
     },
     "execution_count": 16,
     "metadata": {},
     "output_type": "execute_result"
    }
   ],
   "source": [
    "# Calculating the correlation matrix between x1 and x2\n",
    "correlx1x2 = np.corrcoef(x1, x2)\n",
    "correlx1x2"
   ]
  },
  {
   "cell_type": "markdown",
   "metadata": {},
   "source": [
    "The correlation between the two variables tends to 0."
   ]
  },
  {
   "cell_type": "code",
   "execution_count": 17,
   "metadata": {
    "collapsed": false
   },
   "outputs": [],
   "source": [
    "# Creating dataframes for y1, X1 and X2 variables and merging them\n",
    "\n",
    "x1pd = pd.DataFrame(x1)\n",
    "x2pd = pd.DataFrame(x2)\n",
    "y1pd = pd.DataFrame(y1)\n",
    "\n",
    "Data = pd.merge(pd.merge(y1pd, x1pd, left_index=True, right_index=True), x2pd, left_index=True, right_index=True)  \n"
   ]
  },
  {
   "cell_type": "code",
   "execution_count": 18,
   "metadata": {
    "collapsed": false
   },
   "outputs": [
    {
     "name": "stdout",
     "output_type": "stream",
     "text": [
      "                            OLS Regression Results                            \n",
      "==============================================================================\n",
      "Dep. Variable:                     y1   R-squared:                       0.337\n",
      "Model:                            OLS   Adj. R-squared:                  0.337\n",
      "Method:                 Least Squares   F-statistic:                     5076.\n",
      "Date:                Wed, 30 Sep 2015   Prob (F-statistic):               0.00\n",
      "Time:                        14:24:23   Log-Likelihood:                -17566.\n",
      "No. Observations:               10000   AIC:                         3.514e+04\n",
      "Df Residuals:                    9998   BIC:                         3.515e+04\n",
      "Df Model:                           1                                         \n",
      "Covariance Type:            nonrobust                                         \n",
      "==============================================================================\n",
      "                 coef    std err          t      P>|t|      [95.0% Conf. Int.]\n",
      "------------------------------------------------------------------------------\n",
      "Intercept      0.9947      0.014     70.952      0.000         0.967     1.022\n",
      "x1             1.0095      0.014     71.248      0.000         0.982     1.037\n",
      "==============================================================================\n",
      "Omnibus:                        3.706   Durbin-Watson:                   2.009\n",
      "Prob(Omnibus):                  0.157   Jarque-Bera (JB):                3.907\n",
      "Skew:                          -0.002   Prob(JB):                        0.142\n",
      "Kurtosis:                       3.097   Cond. No.                         1.02\n",
      "==============================================================================\n",
      "\n",
      "Warnings:\n",
      "[1] Standard Errors assume that the covariance matrix of the errors is correctly specified.\n"
     ]
    }
   ],
   "source": [
    "#Run OLS regression on y1 for x1 only\n",
    "mod1 = smf.ols(formula='y1 ~ x1', data=Data).fit()\n",
    "print(mod1.summary())"
   ]
  },
  {
   "cell_type": "markdown",
   "metadata": {},
   "source": [
    "When we run this regression without taking in account the x2 variable the resulting coeficient for x1 is close to be 1, which would could lead to an erroneousinterpretation to demostrate almost perfect positive correlation between y1 and x1."
   ]
  },
  {
   "cell_type": "code",
   "execution_count": 19,
   "metadata": {
    "collapsed": true
   },
   "outputs": [],
   "source": [
    "# Generate normal error and multiple variables (10000 draws)\n",
    "e1 = np.random.normal(0, 1, 10000)  \n",
    "z1 = np.random.normal(0, 1, 10000)\n",
    "w1 = np.random.normal(0, 1, 10000)\n",
    "n1 = np.random.normal(0, 1, 10000)\n",
    "\n",
    "x1 = z1 + n1\n",
    "x2 = -z1 + w1\n"
   ]
  },
  {
   "cell_type": "code",
   "execution_count": 20,
   "metadata": {
    "collapsed": true
   },
   "outputs": [],
   "source": [
    "# DGPs for y1 \n",
    "y1 = 1 + x1 + x2 + e1"
   ]
  },
  {
   "cell_type": "code",
   "execution_count": 21,
   "metadata": {
    "collapsed": false
   },
   "outputs": [
    {
     "data": {
      "text/plain": [
       "array([[ 1.        , -0.50933165],\n",
       "       [-0.50933165,  1.        ]])"
      ]
     },
     "execution_count": 21,
     "metadata": {},
     "output_type": "execute_result"
    }
   ],
   "source": [
    "# Calculating the correlation matrix between x1 and x2\n",
    "correlx1x2 = np.corrcoef(x1, x2)\n",
    "correlx1x2"
   ]
  },
  {
   "cell_type": "markdown",
   "metadata": {},
   "source": [
    "In this case, due to the interdependance on the variable z1 in the two variables x1 and x2, we have a negative correlation of -0.5 among the two variables"
   ]
  },
  {
   "cell_type": "code",
   "execution_count": 22,
   "metadata": {
    "collapsed": true
   },
   "outputs": [],
   "source": [
    "# Creating dataframes for y1, X1 and X2 variables and merging them\n",
    "\n",
    "x1pd = pd.DataFrame(x1)\n",
    "x2pd = pd.DataFrame(x2)\n",
    "y1pd = pd.DataFrame(y1)\n",
    "\n",
    "Data = pd.merge(pd.merge(y1pd, x1pd, left_index=True, right_index=True), x2pd, left_index=True, right_index=True)  "
   ]
  },
  {
   "cell_type": "code",
   "execution_count": 23,
   "metadata": {
    "collapsed": false
   },
   "outputs": [
    {
     "name": "stdout",
     "output_type": "stream",
     "text": [
      "                            OLS Regression Results                            \n",
      "==============================================================================\n",
      "Dep. Variable:                     y1   R-squared:                       0.166\n",
      "Model:                            OLS   Adj. R-squared:                  0.166\n",
      "Method:                 Least Squares   F-statistic:                     1988.\n",
      "Date:                Wed, 30 Sep 2015   Prob (F-statistic):               0.00\n",
      "Time:                        14:25:36   Log-Likelihood:                -18721.\n",
      "No. Observations:               10000   AIC:                         3.745e+04\n",
      "Df Residuals:                    9998   BIC:                         3.746e+04\n",
      "Df Model:                           1                                         \n",
      "Covariance Type:            nonrobust                                         \n",
      "==============================================================================\n",
      "                 coef    std err          t      P>|t|      [95.0% Conf. Int.]\n",
      "------------------------------------------------------------------------------\n",
      "Intercept      1.0161      0.016     64.576      0.000         0.985     1.047\n",
      "x1             0.4937      0.011     44.587      0.000         0.472     0.515\n",
      "==============================================================================\n",
      "Omnibus:                        2.265   Durbin-Watson:                   1.972\n",
      "Prob(Omnibus):                  0.322   Jarque-Bera (JB):                2.235\n",
      "Skew:                          -0.028   Prob(JB):                        0.327\n",
      "Kurtosis:                       3.048   Cond. No.                         1.42\n",
      "==============================================================================\n",
      "\n",
      "Warnings:\n",
      "[1] Standard Errors assume that the covariance matrix of the errors is correctly specified.\n"
     ]
    }
   ],
   "source": [
    "#Run OLS regression on y1 for x1 only\n",
    "mod1 = smf.ols(formula='y1 ~ x1', data=Data).fit()\n",
    "print(mod1.summary())"
   ]
  },
  {
   "cell_type": "markdown",
   "metadata": {},
   "source": [
    "In this case, we wun run a mistakenly regression of y1 only taking in account variable x1, we see that the coeficcient is still positive like in the first case, but now is closer to 0.5, which reduces the seemable correlation between the two variables (y1 on x1).\n",
    "\n",
    "Given the two experiments,we could probably deduce than when simulating a multi-variable regression model, and erroneously lefting behind one of more explanatory variables, the included ones in the regression seem to be getting some portion of the explaining capacity on the dependent variable, and that this proportion is directly linked to the level of correlation between the included explanatory variable and the one left outside the regression, altough we would require some additional prove to affirm this theory as a certain truth. "
   ]
  }
 ],
 "metadata": {
  "kernelspec": {
   "display_name": "Python 2",
   "language": "python",
   "name": "python2"
  },
  "language_info": {
   "codemirror_mode": {
    "name": "ipython",
    "version": 2
   },
   "file_extension": ".py",
   "mimetype": "text/x-python",
   "name": "python",
   "nbconvert_exporter": "python",
   "pygments_lexer": "ipython2",
   "version": "2.7.10"
  }
 },
 "nbformat": 4,
 "nbformat_minor": 0
}
